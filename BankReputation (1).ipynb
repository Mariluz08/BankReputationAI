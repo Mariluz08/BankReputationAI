{
  "metadata": {
    "language_info": {
      "codemirror_mode": {
        "name": "python",
        "version": 3
      },
      "file_extension": ".py",
      "mimetype": "text/x-python",
      "name": "python",
      "nbconvert_exporter": "python",
      "pygments_lexer": "ipython3",
      "version": "3.8"
    },
    "kernelspec": {
      "name": "python",
      "display_name": "Python (Pyodide)",
      "language": "python"
    }
  },
  "nbformat_minor": 4,
  "nbformat": 4,
  "cells": [
    {
      "cell_type": "code",
      "source": "##install pandas scikit-learn\nfrom sklearn.model_selection import train_test_split\nfrom sklearn.feature_extraction.text import TfidfVectorizer\nfrom sklearn.naive_bayes import MultinomialNB\nfrom sklearn.metrics import accuracy_score, classification_report\nimport pandas as pd\n\n# Cargar datos\n##data = pd.read_csv('tu_archivo.csv')\ndf =  pd.read_csv(open('pruebabco_1.csv'))\n# Visualizar los primeros registros\nprint(df.head())\n##Paso 4: Preprocesamiento de Datos\n##python\n##Copy code\ndf['Hora'] = pd.to_datetime(df['Hora'])\n##f['Hora'] = pd.to_datetime(df['Hora'])\ndf['Hora'] = df['Hora'].dt.round('480min')\ncount_df = df.groupby(['Hora','Sentimiento']).size().unstack(fill_value=0)\n##print(df)\nprint(count_df)\n##print(data.head())\n# Dividir datos en entrenamiento y prueba\ntrain_data, test_data = train_test_split(df, test_size=0.5, random_state=42)\n\n# Crear vectores TF-IDF\ntfidf_vectorizer = TfidfVectorizer(max_features=5000)\nX_train = tfidf_vectorizer.fit_transform(train_data['Contenido'])\nX_test = tfidf_vectorizer.transform(test_data['Contenido'])\n\n# Etiquetas\ny_train = train_data['Sentimiento']\ny_test = test_data['Sentimiento']\n###Paso 5: Entrenar el Modelo\n##python\n##Copy code\n# Inicializar el clasificador \nclassifier = MultinomialNB()\n\n# Entrenar el modelo\nclassifier.fit(X_train, y_train)\n###Paso 6: Evaluación del Modelo\n##python\n##Copy code\n# Predecir en el conjunto de prueba\ny_pred = classifier.predict(X_test)\n\n# Evaluar el rendimiento\nprint(\"Exactitud:\", accuracy_score(y_test, y_pred))\nprint(\"Informe de clasificación:\\n\", classification_report(y_test, y_pred))\n\n##Paso 7: Uso del Modelo\n##python\n##Copy code\n# Puedes usar el modelo para predecir el sentimiento de nuevos textos\nnew_texts = [\"recomendado\", \"muy bien.\",\"buen servicio\"]\nnew_texts_vectorized = tfidf_vectorizer.transform(new_texts)\npredictions = classifier.predict(new_texts_vectorized)\nprint(\"Predicciones:\", predictions)\n\n",
      "metadata": {
        "trusted": true
      },
      "execution_count": 15,
      "outputs": [
        {
          "name": "stdout",
          "text": "       Fecha           Hora  \\\n0  9/10/2023   9:31:00 a.m.   \n1  9/10/2023  10:32:00 a.m.   \n2  9/10/2023  11:13:00 a.m.   \n3  9/10/2023  12:55:00 p.m.   \n4  9/10/2023   2:21:00 p.m.   \n\n                                           Contenido Sentimiento  \n0  No he podido darle algo material para lo que d...    POSITIVE  \n1  Estando en el colegio más o menos con unos 8 a...    POSITIVE  \n2  Cuando tenia 4 años de edad mi mamá se fue par...    POSITIVE  \n3  Aprendí en el colegio una técnica que se llama...    POSITIVE  \n4                                                🎥🦋🦋    POSITIVE  \nSentimiento          NEGATIVE  OBJECTIVE  POSITIVE\nHora                                              \n2023-10-30 00:00:00        27         27        16\n2023-10-30 08:00:00       103        128       101\n2023-10-30 16:00:00       204        292       264\n2023-10-31 00:00:00       107        189       172\nExactitud: 0.803680981595092\nInforme de clasificación:\n               precision    recall  f1-score   support\n\n    NEGATIVE       0.85      0.75      0.80       229\n   OBJECTIVE       0.81      0.85      0.83       318\n    POSITIVE       0.77      0.80      0.78       268\n\n    accuracy                           0.80       815\n   macro avg       0.81      0.80      0.80       815\nweighted avg       0.81      0.80      0.80       815\n\nPredicciones: ['OBJECTIVE' 'POSITIVE' 'NEGATIVE']\n",
          "output_type": "stream"
        }
      ]
    },
    {
      "cell_type": "code",
      "source": "",
      "metadata": {
        "trusted": true
      },
      "execution_count": null,
      "outputs": []
    },
    {
      "cell_type": "code",
      "source": "",
      "metadata": {},
      "execution_count": null,
      "outputs": []
    },
    {
      "cell_type": "code",
      "source": "",
      "metadata": {},
      "execution_count": null,
      "outputs": []
    },
    {
      "cell_type": "code",
      "source": "",
      "metadata": {},
      "execution_count": null,
      "outputs": []
    },
    {
      "cell_type": "code",
      "source": "",
      "metadata": {},
      "execution_count": null,
      "outputs": []
    },
    {
      "cell_type": "code",
      "source": "",
      "metadata": {},
      "execution_count": null,
      "outputs": []
    },
    {
      "cell_type": "code",
      "source": "",
      "metadata": {},
      "execution_count": null,
      "outputs": []
    },
    {
      "cell_type": "code",
      "source": "",
      "metadata": {},
      "execution_count": null,
      "outputs": []
    },
    {
      "cell_type": "code",
      "source": "",
      "metadata": {},
      "execution_count": null,
      "outputs": []
    },
    {
      "cell_type": "code",
      "source": "",
      "metadata": {},
      "execution_count": null,
      "outputs": []
    }
  ]
}